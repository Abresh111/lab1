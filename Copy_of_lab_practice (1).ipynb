{
  "nbformat": 4,
  "nbformat_minor": 0,
  "metadata": {
    "colab": {
      "name": "Copy of lab_practice.ipynb",
      "provenance": [],
      "collapsed_sections": []
    },
    "kernelspec": {
      "name": "python3",
      "display_name": "Python 3"
    },
    "language_info": {
      "name": "python"
    }
  },
  "cells": [
    {
      "cell_type": "code",
      "execution_count": null,
      "metadata": {
        "colab": {
          "base_uri": "https://localhost:8080/"
        },
        "id": "z-K5Gg0_rdmt",
        "outputId": "5025aed3-ad58-4438-dc59-10e40101114e"
      },
      "outputs": [
        {
          "output_type": "stream",
          "name": "stdout",
          "text": [
            "0\n"
          ]
        }
      ],
      "source": [
        "#nested if\n",
        "a=4\n",
        "b=5\n",
        "c=7\n",
        "\n",
        "d=\"abresh\"\n",
        "e=\"humayun\"\n",
        " \n",
        "if a==3:\n",
        "  if b==6:\n",
        "    g=d\n",
        "    print(d)\n",
        "  elif b==7:\n",
        "    h=e\n",
        "    print(h)\n",
        "  else:\n",
        "    print(a,b)\n",
        "\n",
        "else:\n",
        "  print(0)\n",
        "\n"
      ]
    },
    {
      "cell_type": "code",
      "source": [
        "\"\"\"\n",
        "commenting paragraphs.\n",
        "\n",
        "id=\"abreshmina humayun\"\n",
        "print(id)\n",
        "\n",
        "id2=\"abresh\"\n",
        "print(id2)\n",
        "\"\"\"\n",
        "\n",
        "id3=\"humayun\"\n",
        "print(id3)\n"
      ],
      "metadata": {
        "colab": {
          "base_uri": "https://localhost:8080/"
        },
        "id": "Ug1NbUWE1iYc",
        "outputId": "b6d501a5-6480-4dfb-9f4a-99bfac67b8fd"
      },
      "execution_count": null,
      "outputs": [
        {
          "output_type": "stream",
          "name": "stdout",
          "text": [
            "humayun\n"
          ]
        }
      ]
    },
    {
      "cell_type": "code",
      "source": [
        "my_list=[\"abresh\",2001,\"ssuetian\",\"ma jinnah road\"]\n",
        "print(my_list)\n",
        "print(my_list[3])\n",
        "print(my_list[-2])\n",
        "print(\"a list can also be print like: \"+my_list[3])\n",
        "my_list_2= my_list[1]\n",
        "my_list_2=my_list[:]\n",
        "print(my_list_2)"
      ],
      "metadata": {
        "colab": {
          "base_uri": "https://localhost:8080/"
        },
        "id": "z8mufmuC48sp",
        "outputId": "1f83a7e1-7d12-486d-ae2c-629fd85734b4"
      },
      "execution_count": null,
      "outputs": [
        {
          "output_type": "stream",
          "name": "stdout",
          "text": [
            "['abresh', 2001, 'ssuetian', 'ma jinnah road']\n",
            "ma jinnah road\n",
            "ssuetian\n",
            "a list can also be print like: ma jinnah road\n",
            "['abresh', 2001, 'ssuetian', 'ma jinnah road']\n"
          ]
        }
      ]
    },
    {
      "cell_type": "code",
      "source": [
        "my_list.append(\"jamshed town\")\n",
        "print(my_list)\n"
      ],
      "metadata": {
        "colab": {
          "base_uri": "https://localhost:8080/"
        },
        "id": "ezpUXtoV7fov",
        "outputId": "fa131628-073d-4c38-bea2-b9d85250439d"
      },
      "execution_count": null,
      "outputs": [
        {
          "output_type": "stream",
          "name": "stdout",
          "text": [
            "['abresh', 2001, 'ssuetian', 'ma jinnah road', 'jamshed town', 'chandni road', 'chandni road', 'chandni road', 'jamshed town', 'jamshed town', 'jamshed town', 'jamshed town', 'jamshed town', 'jamshed town', 'jamshed town', 'jamshed town', 'jamshed town']\n"
          ]
        }
      ]
    },
    {
      "cell_type": "code",
      "source": [
        "my_list.insert(5,\"chandni road\")\n",
        "my_list[:]"
      ],
      "metadata": {
        "colab": {
          "base_uri": "https://localhost:8080/"
        },
        "id": "XOTwg09f85hd",
        "outputId": "3a11daa1-e581-41fd-ffdf-5531bad64ff4"
      },
      "execution_count": null,
      "outputs": [
        {
          "output_type": "execute_result",
          "data": {
            "text/plain": [
              "['abresh',\n",
              " 2001,\n",
              " 'ssuetian',\n",
              " 'ma jinnah road',\n",
              " 'jamshed town',\n",
              " 'chandni road',\n",
              " 'chandni road',\n",
              " 'chandni road',\n",
              " 'chandni road',\n",
              " 'jamshed town',\n",
              " 'jamshed town',\n",
              " 'jamshed town',\n",
              " 'jamshed town',\n",
              " 'jamshed town',\n",
              " 'jamshed town',\n",
              " 'jamshed town',\n",
              " 'jamshed town',\n",
              " 'jamshed town']"
            ]
          },
          "metadata": {},
          "execution_count": 34
        }
      ]
    },
    {
      "cell_type": "code",
      "source": [
        "my_list_3=my_list[2:4]\n",
        "print(my_list_3)"
      ],
      "metadata": {
        "colab": {
          "base_uri": "https://localhost:8080/"
        },
        "id": "imsrokY4-S31",
        "outputId": "465b0db4-1ccf-4329-dc37-f101ced48ae5"
      },
      "execution_count": null,
      "outputs": [
        {
          "output_type": "stream",
          "name": "stdout",
          "text": [
            "['ssuetian', 'ma jinnah road']\n"
          ]
        }
      ]
    },
    {
      "cell_type": "code",
      "source": [
        "my_list=[\"krachi\",\"atlanta\",\"baltimore\",\"chicago\"]\n",
        "print(my_list[-1:])"
      ],
      "metadata": {
        "colab": {
          "base_uri": "https://localhost:8080/"
        },
        "id": "VjRXSHrV-skE",
        "outputId": "31303455-8c37-4d5b-b1e2-f81089fca4dd"
      },
      "execution_count": null,
      "outputs": [
        {
          "output_type": "stream",
          "name": "stdout",
          "text": [
            "['baltimore']\n"
          ]
        }
      ]
    },
    {
      "cell_type": "code",
      "source": [
        "my_list=[\"krachi\",\"atlanta\",\"baltimore\",\"chicago\"]\n",
        "del my_list[0]\n",
        "my_l= my_list\n",
        "print(my_l[:])"
      ],
      "metadata": {
        "colab": {
          "base_uri": "https://localhost:8080/"
        },
        "id": "DJAO6gyXEvy_",
        "outputId": "427e2a60-02a6-4688-c298-14fad9fef9a2"
      },
      "execution_count": null,
      "outputs": [
        {
          "output_type": "stream",
          "name": "stdout",
          "text": [
            "['atlanta', 'baltimore', 'chicago']\n"
          ]
        }
      ]
    },
    {
      "cell_type": "code",
      "source": [
        "my_list1=[\"krachi\",\"atlanta\",\"baltimore\",\"chicago\"]\n",
        "my_list1.remove(\"atlanta\")\n",
        "my_l= my_list1[:]\n",
        "print(my_l)"
      ],
      "metadata": {
        "colab": {
          "base_uri": "https://localhost:8080/"
        },
        "id": "TLGh_t-gGD-P",
        "outputId": "b5b13bd9-9fcb-43d3-dff1-7dcbfdc9f2d8"
      },
      "execution_count": null,
      "outputs": [
        {
          "output_type": "stream",
          "name": "stdout",
          "text": [
            "['krachi', 'baltimore', 'chicago']\n"
          ]
        }
      ]
    },
    {
      "cell_type": "code",
      "source": [
        "fruits=[\"apple\",\"mango\",\"orange\"]\n",
        "fruits[:]\n",
        "print(fruits[:])"
      ],
      "metadata": {
        "id": "tG9YAX7TFVEf"
      },
      "execution_count": null,
      "outputs": []
    },
    {
      "cell_type": "code",
      "source": [
        "#understand pop\n",
        "\n",
        "name=[\"abresh\",\"daniel\",\"searh\"]\n",
        "print(name.pop(1))\n"
      ],
      "metadata": {
        "id": "tWr9P_xFPxqO",
        "colab": {
          "base_uri": "https://localhost:8080/"
        },
        "outputId": "5174aac0-52fd-4702-832c-9331bd264224"
      },
      "execution_count": 1,
      "outputs": [
        {
          "output_type": "stream",
          "name": "stdout",
          "text": [
            "daniel\n"
          ]
        }
      ]
    },
    {
      "cell_type": "code",
      "source": [
        "abc=[\"abresh\",\"sana\",\"ali\",\"shazia\",\"batool\",\"saad\"]\n",
        "abc.sort(reverse = True)\n",
        "print(abc)\n",
        "\n"
      ],
      "metadata": {
        "colab": {
          "base_uri": "https://localhost:8080/"
        },
        "id": "_gmsfJrHymSF",
        "outputId": "f1e1d531-3fe0-45bc-e3ea-40931b05df3e"
      },
      "execution_count": 18,
      "outputs": [
        {
          "output_type": "stream",
          "name": "stdout",
          "text": [
            "['shazia', 'sana', 'saad', 'batool', 'ali', 'abresh']\n"
          ]
        }
      ]
    },
    {
      "cell_type": "code",
      "source": [
        "cities=[\"karachi\",\"sukkur\",\"ravi\",\"chennab\",\"hyderabad\",\"lahore\",\"gujrat\",\"jacobabad\",\"chaniot\",\"faislabad\"]\n",
        "print(sorted(cities, reverse= True))\n",
        "\n",
        "cities.sort(reverse= True)\n",
        "print(cities)\n",
        "\n",
        "#slicing\n",
        "list_1=cities[3:8]\n",
        "print(list_1)\n"
      ],
      "metadata": {
        "colab": {
          "base_uri": "https://localhost:8080/"
        },
        "id": "jNW92tJZzkd2",
        "outputId": "0e708ed7-8804-4a1f-cea6-39c47aef9f97"
      },
      "execution_count": 41,
      "outputs": [
        {
          "output_type": "stream",
          "name": "stdout",
          "text": [
            "['sukkur', 'ravi', 'lahore', 'karachi', 'jacobabad', 'hyderabad', 'gujrat', 'faislabad', 'chennab', 'chaniot']\n",
            "['sukkur', 'ravi', 'lahore', 'karachi', 'jacobabad', 'hyderabad', 'gujrat', 'faislabad', 'chennab', 'chaniot']\n",
            "['karachi', 'jacobabad', 'hyderabad', 'gujrat', 'faislabad']\n"
          ]
        }
      ]
    },
    {
      "cell_type": "markdown",
      "source": [
        ""
      ],
      "metadata": {
        "id": "eqNOmcmHy2oc"
      }
    }
  ]
}